{
 "cells": [
  {
   "cell_type": "markdown",
   "id": "c16faa00",
   "metadata": {},
   "source": [
    "#### Question 1: \n",
    "A national examination board believes that the students in state X score an average of 52 in mathematics. A state education official\n",
    "disputes this and collects a random sample of 100 student scores from the state. The sample has an average score of 54 with a standard deviation of\n",
    "10. At the 0.05 significance level, is the official correct?\n"
   ]
  },
  {
   "cell_type": "code",
   "execution_count": 3,
   "id": "55ac2394",
   "metadata": {},
   "outputs": [],
   "source": [
    "import math\n",
    "import scipy.stats as stats"
   ]
  },
  {
   "cell_type": "code",
   "execution_count": 7,
   "id": "0fbf8a55",
   "metadata": {},
   "outputs": [
    {
     "name": "stdout",
     "output_type": "stream",
     "text": [
      "Reject the null hypothesis\n"
     ]
    }
   ],
   "source": [
    "x_bar = 54\n",
    "mu = 52\n",
    "n=100\n",
    "s=10\n",
    "alpha = 0.05\n",
    "\n",
    "z = (x_bar-mu)/(s/math.sqrt(n))\n",
    "p = 1- stats.norm.cdf(z)\n",
    "if p < alpha:\n",
    " print(\"Reject the null hypothesis\")\n",
    "else:\n",
    " print(\"Do not reject the null hypothesis\")z"
   ]
  },
  {
   "cell_type": "markdown",
   "id": "e49905fa",
   "metadata": {},
   "source": [
    "### Question 2\n",
    "A company claims that the mean delivery time for its new express delivery service is 60 minutes. To test this claim, a random sample of 36 delivery times is taken, and the sample mean is found to be 63 minutes with a standard deviation of 5 minutes. Assume the delivery times are normally distributed.\n",
    "\n",
    "Perform a z-test at a 5% significance level to determine if there is sufficient evidence to support the company's claim."
   ]
  },
  {
   "cell_type": "code",
   "execution_count": 9,
   "id": "e246bf37",
   "metadata": {},
   "outputs": [
    {
     "name": "stdout",
     "output_type": "stream",
     "text": [
      "Reject the null hypothesis\n"
     ]
    }
   ],
   "source": [
    "mu = 60\n",
    "n = 36\n",
    "x_bar = 63\n",
    "s=5\n",
    "alpha = 0.05\n",
    "\n",
    "z = (x_bar-mu)/(s/math.sqrt(n))\n",
    "p = 1-stats.norm.cdf(z)\n",
    "if p < alpha:\n",
    " print(\"Reject the null hypothesis\")\n",
    "else:\n",
    " print(\"Do not reject the null hypothesis\")"
   ]
  },
  {
   "cell_type": "markdown",
   "id": "9fbab13f",
   "metadata": {},
   "source": [
    "#### Question 3\n",
    "\n",
    "A researcher wants to determine if a new teaching method improves students' test scores compared to the traditional method. A random sample of 25 students is selected. Half of them are taught using the new method, and the other half using the traditional method. The test scores (out of 100) for the two groups are as follows:\n",
    "\n",
    "New Method Group: 82, 85, 88, 79, 90, 92, 87, 84, 86, 89\n",
    "Traditional Method Group: 75, 78, 80, 72, 77, 79, 82, 76, 81, 79\n",
    "Assume the population variances are equal. Perform a two-sample t-test at a 5% significance level to determine if there is sufficient evidence to conclude that the new teaching method improves test scores compared to the traditional method."
   ]
  },
  {
   "cell_type": "code",
   "execution_count": 10,
   "id": "9492bbea",
   "metadata": {},
   "outputs": [
    {
     "name": "stdout",
     "output_type": "stream",
     "text": [
      "t-statistic: 5.351436749947026\n",
      "p-value: 4.366975901317611e-05\n",
      "Reject the null hypothesis: There is sufficient evidence that the new method improves test scores.\n"
     ]
    }
   ],
   "source": [
    "import numpy as np\n",
    "from scipy import stats\n",
    "\n",
    "# Data for new method group and traditional method group\n",
    "new_method = np.array([82, 85, 88, 79, 90, 92, 87, 84, 86, 89])\n",
    "traditional_method = np.array([75, 78, 80, 72, 77, 79, 82, 76, 81, 79])\n",
    "\n",
    "# Perform two-sample t-test assuming equal variances\n",
    "t_statistic, p_value = stats.ttest_ind(new_method, traditional_method, equal_var=True)\n",
    "\n",
    "# Output the results\n",
    "print(\"t-statistic:\", t_statistic)\n",
    "print(\"p-value:\", p_value)\n",
    "\n",
    "# Compare with significance level alpha = 0.05\n",
    "alpha = 0.05\n",
    "if p_value < alpha:\n",
    "    print(\"Reject the null hypothesis: There is sufficient evidence that the new method improves test scores.\")\n",
    "else:\n",
    "    print(\"Fail to reject the null hypothesis: There is not sufficient evidence that the new method improves test scores.\")\n"
   ]
  },
  {
   "cell_type": "markdown",
   "id": "d39e2a29",
   "metadata": {},
   "source": [
    "#### Q4\n",
    "A researcher is studying the association between smoking habits and lung disease in a population. They collect data on smoking status (smoker vs. non-smoker) and lung disease status (present vs. absent) from a random sample of 200 individuals. The observed frequencies are as follows:\n",
    "\n",
    "Smoker and Lung Disease Present: 30\n",
    "Smoker and Lung Disease Absent: 50\n",
    "Non-Smoker and Lung Disease Present: 20\n",
    "Non-Smoker and Lung Disease Absent: 100\n",
    "Perform a chi-square test at a 5% significance level to determine if there is a significant association between smoking habits and lung disease."
   ]
  },
  {
   "cell_type": "code",
   "execution_count": 11,
   "id": "23480f3b",
   "metadata": {},
   "outputs": [
    {
     "name": "stdout",
     "output_type": "stream",
     "text": [
      "Chi-square statistic: 10.027777777777779\n",
      "P-value: 0.0015419695689399518\n",
      "Degrees of freedom: 1\n",
      "Expected frequencies:\n",
      " [[20. 60.]\n",
      " [30. 90.]]\n",
      "\n",
      "Reject the null hypothesis: There is a significant association between smoking habits and lung disease.\n"
     ]
    }
   ],
   "source": [
    "import numpy as np\n",
    "from scipy.stats import chi2_contingency\n",
    "\n",
    "# Observed frequencies\n",
    "observed = np.array([[30, 50], [20, 100]])\n",
    "\n",
    "# Perform chi-square test\n",
    "chi2_stat, p_val, dof, expected = chi2_contingency(observed)\n",
    "\n",
    "# Output the results\n",
    "print(\"Chi-square statistic:\", chi2_stat)\n",
    "print(\"P-value:\", p_val)\n",
    "print(\"Degrees of freedom:\", dof)\n",
    "print(\"Expected frequencies:\\n\", expected)\n",
    "\n",
    "# Compare with significance level alpha = 0.05\n",
    "alpha = 0.05\n",
    "if p_val < alpha:\n",
    "    print(\"\\nReject the null hypothesis: There is a significant association between smoking habits and lung disease.\")\n",
    "else:\n",
    "    print(\"\\nFail to reject the null hypothesis: There is no significant association between smoking habits and lung disease.\")\n"
   ]
  },
  {
   "cell_type": "markdown",
   "id": "d4988cbf",
   "metadata": {},
   "source": [
    "#### Q5\n",
    "A researcher wants to determine if there is a statistically significant difference in the mean scores of three different teaching methods (Method A, Method B, Method C) in improving student performance. They collect test scores from random samples of students for each method:\n",
    "\n",
    "Method A: [82, 85, 88, 79, 90]\n",
    "Method B: [75, 78, 80, 72, 77]\n",
    "Method C: [85, 82, 88, 90, 86]\n",
    "Perform an ANOVA test at a 5% significance level to determine if there is a significant difference in mean scores among the three teaching methods."
   ]
  },
  {
   "cell_type": "code",
   "execution_count": 13,
   "id": "2c581ed5",
   "metadata": {},
   "outputs": [
    {
     "name": "stdout",
     "output_type": "stream",
     "text": [
      "F-statistic: 11.031413612565451\n",
      "P-value: 0.0019116277491175078\n",
      "\n",
      "Reject the null hypothesis: There is a significant difference in mean scores among the teaching methods.\n"
     ]
    }
   ],
   "source": [
    "import numpy as np\n",
    "from scipy.stats import f_oneway\n",
    "\n",
    "# Data for each teaching method\n",
    "method_a = np.array([82, 85, 88, 79, 90])\n",
    "method_b = np.array([75, 78, 80, 72, 77])\n",
    "method_c = np.array([85, 82, 88, 90, 86])\n",
    "\n",
    "# Perform one-way ANOVA\n",
    "f_statistic, p_value = f_oneway(method_a, method_b, method_c)\n",
    "\n",
    "# Output the results\n",
    "print(\"F-statistic:\", f_statistic)\n",
    "print(\"P-value:\", p_value)\n",
    "\n",
    "# Compare with significance level alpha = 0.05\n",
    "alpha = 0.05\n",
    "if p_value < alpha:\n",
    "    print(\"\\nReject the null hypothesis: There is a significant difference in mean scores among the teaching methods.\")\n",
    "else:\n",
    "    print(\"\\nFail to reject the null hypothesis: There is no significant difference in mean scores among the teaching methods.\")\n"
   ]
  },
  {
   "cell_type": "code",
   "execution_count": null,
   "id": "8a1c70db",
   "metadata": {},
   "outputs": [],
   "source": []
  }
 ],
 "metadata": {
  "kernelspec": {
   "display_name": "Python 3 (ipykernel)",
   "language": "python",
   "name": "python3"
  },
  "language_info": {
   "codemirror_mode": {
    "name": "ipython",
    "version": 3
   },
   "file_extension": ".py",
   "mimetype": "text/x-python",
   "name": "python",
   "nbconvert_exporter": "python",
   "pygments_lexer": "ipython3",
   "version": "3.9.7"
  }
 },
 "nbformat": 4,
 "nbformat_minor": 5
}
